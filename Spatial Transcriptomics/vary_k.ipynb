{
 "cells": [
  {
   "cell_type": "code",
   "execution_count": 1,
   "id": "42212d84-ad51-411e-98a1-18c7f0812cd8",
   "metadata": {},
   "outputs": [
    {
     "name": "stderr",
     "output_type": "stream",
     "text": [
      "/home/ianubuntu4/.pyenv/versions/miniconda3-latest/envs/BMCS4480/lib/python3.10/site-packages/tqdm/auto.py:21: TqdmWarning: IProgress not found. Please update jupyter and ipywidgets. See https://ipywidgets.readthedocs.io/en/stable/user_install.html\n",
      "  from .autonotebook import tqdm as notebook_tqdm\n"
     ]
    },
    {
     "name": "stdout",
     "output_type": "stream",
     "text": [
      "scanpy==1.10.1 anndata==0.10.7 umap==0.5.6 numpy==1.23.4 scipy==1.13.0 pandas==2.2.1 scikit-learn==1.4.2 statsmodels==0.14.1 igraph==0.11.4 louvain==0.8.2 pynndescent==0.5.12\n",
      "squidpy==1.4.1\n",
      "scanpy==1.10.1 anndata==0.10.7 umap==0.5.6 numpy==1.23.4 scipy==1.13.0 pandas==2.2.1 scikit-learn==1.4.2 statsmodels==0.14.1 igraph==0.11.4 louvain==0.8.2 pynndescent==0.5.12\n",
      "squidpy==1.4.1\n",
      "/home/ianubuntu4/COMPUTER/BMCS4480/final/MarkerMap/src/markermap/vae_models.py\n",
      "/home/ianubuntu4/COMPUTER/BMCS4480/final/MarkerMap/src/markermap/utils.py\n",
      "/home/ianubuntu4/COMPUTER/BMCS4480/final/MarkerMap/src/markermap/vae_models.py\n",
      "/home/ianubuntu4/COMPUTER/BMCS4480/final/MarkerMap/src/markermap/utils.py\n"
     ]
    }
   ],
   "source": [
    "import time\n",
    "\n",
    "import numpy as np\n",
    "import pandas as pd\n",
    "\n",
    "import anndata as ad\n",
    "import scanpy as sc\n",
    "import squidpy as sq\n",
    "import matplotlib.pyplot as plt\n",
    "\n",
    "sc.logging.print_header()\n",
    "print(f\"squidpy=={sq.__version__}\")\n",
    "\n",
    "from markermap.vae_models import MarkerMap, train_model\n",
    "from markermap.utils import (\n",
    "    new_model_metrics,\n",
    "    plot_confusion_matrix,\n",
    "    split_data,\n",
    "    plot_umap_embedding\n",
    ")\n",
    "\n",
    "from squidpy_markermap import dataset_squidpy, squidpy_markermap, eval_squidpy\n",
    "\n",
    "from markermap import vae_models\n",
    "print(vae_models.__file__)\n",
    "from markermap import utils\n",
    "print(utils.__file__)\n",
    "\n",
    "%load_ext autoreload\n",
    "%autoreload 2"
   ]
  },
  {
   "cell_type": "markdown",
   "id": "03660f45-ac45-4cc3-8fa6-128125ffbaad",
   "metadata": {},
   "source": [
    "## Data"
   ]
  },
  {
   "cell_type": "code",
   "execution_count": 2,
   "id": "d061924c-96f7-4a92-9582-10f77b5e146c",
   "metadata": {},
   "outputs": [
    {
     "name": "stdout",
     "output_type": "stream",
     "text": [
      "AnnData object with n_obs × n_vars = 2688 × 18078\n",
      "    obs: 'in_tissue', 'array_row', 'array_col', 'n_genes_by_counts', 'log1p_n_genes_by_counts', 'total_counts', 'log1p_total_counts', 'pct_counts_in_top_50_genes', 'pct_counts_in_top_100_genes', 'pct_counts_in_top_200_genes', 'pct_counts_in_top_500_genes', 'total_counts_mt', 'log1p_total_counts_mt', 'pct_counts_mt', 'n_counts', 'leiden', 'cluster', 'annotation'\n",
      "    var: 'gene_ids', 'feature_types', 'genome', 'mt', 'n_cells_by_counts', 'mean_counts', 'log1p_mean_counts', 'pct_dropout_by_counts', 'total_counts', 'log1p_total_counts', 'n_cells', 'highly_variable', 'highly_variable_rank', 'means', 'variances', 'variances_norm'\n",
      "    uns: 'cluster_colors', 'hvg', 'leiden', 'leiden_colors', 'neighbors', 'pca', 'rank_genes_groups', 'spatial', 'umap'\n",
      "    obsm: 'X_pca', 'X_umap', 'spatial'\n",
      "    varm: 'PCs'\n",
      "    obsp: 'connectivities', 'distances'\n",
      "(2688, 18078)\n",
      "(2688,)\n",
      "['Cortex_1' 'Cortex_2' 'Cortex_3' 'Cortex_4' 'Cortex_5' 'Fiber_tract'\n",
      " 'Hippocampus' 'Hypothalamus_1' 'Hypothalamus_2' 'Lateral_ventricle'\n",
      " 'Pyramidal_layer' 'Pyramidal_layer_dentate_gyrus' 'Striatum' 'Thalamus_1'\n",
      " 'Thalamus_2']\n"
     ]
    },
    {
     "name": "stderr",
     "output_type": "stream",
     "text": [
      "/home/ianubuntu4/COMPUTER/BMCS4480/final/MarkerMap/src/markermap/utils.py:1086: FutureWarning: Series.__getitem__ treating keys as positions is deprecated. In a future version, integer keys will always be treated as labels (consistent with DataFrame behavior). To access a value by position, use `ser.iloc[pos]`\n",
      "  torch.utils.data.TensorDataset(torch.Tensor(X), torch.LongTensor(y)),\n"
     ]
    }
   ],
   "source": [
    "adata, train_dataloader, val_dataloader, train_indices, val_indices, test_indices, train_val_indices = dataset_squidpy()"
   ]
  },
  {
   "cell_type": "markdown",
   "id": "ddb7713a-e078-49f6-b2b2-bcfa3ccf0e6a",
   "metadata": {},
   "source": [
    "## Define and train the model"
   ]
  },
  {
   "cell_type": "code",
   "execution_count": 4,
   "id": "c132d74e-8350-4038-ad06-86022a0e8124",
   "metadata": {},
   "outputs": [
    {
     "name": "stdout",
     "output_type": "stream",
     "text": [
      "k = 25\n",
      "{'z_size': 16, 'hidden_layer_size': 64, 'k': 25}\n",
      "  | Name                   | Type       | Params\n",
      "------------------------------------------------------\n",
      "0 | encoder                | Sequential | 1.2 M \n",
      "1 | enc_mean               | Linear     | 1.0 K \n",
      "2 | enc_logvar             | Linear     | 1.0 K \n",
      "3 | decoder                | Sequential | 1.2 M \n",
      "4 | dec_logvar             | Sequential | 1.2 M \n",
      "5 | weight_creator         | Sequential | 2.3 M \n",
      "6 | classification_decoder | Sequential | 2.2 K \n",
      "7 | classification_loss    | NLLLoss    | 0     \n",
      "------------------------------------------------------\n",
      "5.9 M     Trainable params\n",
      "0         Non-trainable params\n",
      "5.9 M     Total params\n",
      "23.436    Total estimated model params size (MB)\n"
     ]
    },
    {
     "name": "stderr",
     "output_type": "stream",
     "text": [
      "Finding best initial lr: 100%|██████████████████████████████████████████████████████████████████████| 100/100 [00:00<00:00, 181.36it/s]\n"
     ]
    },
    {
     "name": "stdout",
     "output_type": "stream",
     "text": [
      "time_elapsed 33.01144456863403 seconds\n"
     ]
    }
   ],
   "source": [
    "mms = []\n",
    "markers3 = []\n",
    "params = {\n",
    "    'z_size': 16,\n",
    "    'hidden_layer_size': 64,\n",
    "    'k': 100,\n",
    "}\n",
    "k = [25, 50, 75, 100]\n",
    "\n",
    "for i in range(0, 7):\n",
    "    print('k =', k[i])\n",
    "    params['k'] = k[i]\n",
    "    tic = time.time()\n",
    "    mm = squidpy_markermap(params, adata, train_dataloader, val_dataloader)\n",
    "    toc = time.time()\n",
    "    print('time_elapsed', toc-tic, 'seconds')\n",
    "    markers.append(mm.markers().clone().cpu().detach().numpy())"
   ]
  },
  {
   "cell_type": "code",
   "execution_count": 64,
   "id": "e113a360-49cf-4c82-a9eb-f552fd955a00",
   "metadata": {},
   "outputs": [
    {
     "name": "stdout",
     "output_type": "stream",
     "text": [
      "in new_model_metrics\n",
      "train_x shape: (2149, 25)\n",
      "Y_pred shape (2688,)\n",
      "in new_model_metrics\n",
      "train_x shape: (2149, 50)\n",
      "Y_pred shape (2688,)\n",
      "in new_model_metrics\n",
      "train_x shape: (2149, 75)\n",
      "Y_pred shape (2688,)\n",
      "in new_model_metrics\n",
      "train_x shape: (2149, 100)\n",
      "Y_pred shape (2688,)\n"
     ]
    },
    {
     "data": {
      "text/plain": [
       "Text(0.5, 1.0, 'f1 scores for different values of k')"
      ]
     },
     "execution_count": 64,
     "metadata": {},
     "output_type": "execute_result"
    },
    {
     "data": {
      "image/png": "[encoded data removed]",
      "text/plain": [
       "<Figure size 640x480 with 1 Axes>"
      ]
     },
     "metadata": {},
     "output_type": "display_data"
    }
   ],
   "source": [
    "group_by = 'annotation'\n",
    "\n",
    "f1_scores = []\n",
    "k = [25, 50, 75, 100]\n",
    "\n",
    "for i in range(0, 4):\n",
    "    misclass_rate, test_rep, cm, Y_pred = new_model_metrics(\n",
    "        adata[train_val_indices, :].X,\n",
    "        adata[train_val_indices, :].obs[group_by],\n",
    "        adata[test_indices, :].X,\n",
    "        adata[test_indices, :].obs[group_by],\n",
    "        markers = markers3[i],\n",
    "        X = adata.X\n",
    "    )\n",
    "    f1_scores.append(test_rep['weighted avg']['f1-score'])\n",
    "\n",
    "plt.plot(k, f1_scores)\n",
    "plt.xlabel('k')\n",
    "plt.ylabel('f1 score measure')\n",
    "plt.title('f1 scores for different values of k')"
   ]
  }
 ],
 "metadata": {
  "kernelspec": {
   "display_name": "Python 3 (ipykernel)",
   "language": "python",
   "name": "python3"
  },
  "language_info": {
   "codemirror_mode": {
    "name": "ipython",
    "version": 3
   },
   "file_extension": ".py",
   "mimetype": "text/x-python",
   "name": "python",
   "nbconvert_exporter": "python",
   "pygments_lexer": "ipython3",
   "version": "3.10.14"
  }
 },
 "nbformat": 4,
 "nbformat_minor": 5
}
