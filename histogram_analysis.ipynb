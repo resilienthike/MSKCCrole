{
 "cells": [
  {
   "cell_type": "code",
   "execution_count": 12,
   "id": "42212d84-ad51-411e-98a1-18c7f0812cd8",
   "metadata": {},
   "outputs": [
    {
     "name": "stdout",
     "output_type": "stream",
     "text": [
      "scanpy==1.10.1 anndata==0.10.7 umap==0.5.6 numpy==1.23.4 scipy==1.13.0 pandas==2.2.1 scikit-learn==1.4.2 statsmodels==0.14.1 igraph==0.11.4 louvain==0.8.2 pynndescent==0.5.12\n",
      "squidpy==1.4.1\n",
      "/home/ianubuntu4/COMPUTER/BMCS4480/final/MarkerMap/src/markermap/vae_models.py\n",
      "/home/ianubuntu4/COMPUTER/BMCS4480/final/MarkerMap/src/markermap/utils.py\n",
      "The autoreload extension is already loaded. To reload it, use:\n",
      "  %reload_ext autoreload\n"
     ]
    }
   ],
   "source": [
    "import time\n",
    "\n",
    "import numpy as np\n",
    "import pandas as pd\n",
    "\n",
    "import anndata as ad\n",
    "import scanpy as sc\n",
    "import squidpy as sq\n",
    "import matplotlib.pyplot as plt\n",
    "\n",
    "sc.logging.print_header()\n",
    "print(f\"squidpy=={sq.__version__}\")\n",
    "\n",
    "from markermap.vae_models import MarkerMap, train_model\n",
    "from markermap.utils import (\n",
    "    new_model_metrics,\n",
    "    plot_confusion_matrix,\n",
    "    split_data,\n",
    "    plot_umap_embedding\n",
    ")\n",
    "\n",
    "from squidpy_markermap import dataset_squidpy, squidpy_markermap, eval_squidpy\n",
    "\n",
    "from markermap import vae_models\n",
    "print(vae_models.__file__)\n",
    "from markermap import utils\n",
    "print(utils.__file__)\n",
    "\n",
    "%load_ext autoreload\n",
    "%autoreload 2"
   ]
  },
  {
   "cell_type": "markdown",
   "id": "03660f45-ac45-4cc3-8fa6-128125ffbaad",
   "metadata": {},
   "source": [
    "## Data"
   ]
  },
  {
   "cell_type": "code",
   "execution_count": 2,
   "id": "d061924c-96f7-4a92-9582-10f77b5e146c",
   "metadata": {},
   "outputs": [
    {
     "name": "stdout",
     "output_type": "stream",
     "text": [
      "AnnData object with n_obs × n_vars = 2688 × 18078\n",
      "    obs: 'in_tissue', 'array_row', 'array_col', 'n_genes_by_counts', 'log1p_n_genes_by_counts', 'total_counts', 'log1p_total_counts', 'pct_counts_in_top_50_genes', 'pct_counts_in_top_100_genes', 'pct_counts_in_top_200_genes', 'pct_counts_in_top_500_genes', 'total_counts_mt', 'log1p_total_counts_mt', 'pct_counts_mt', 'n_counts', 'leiden', 'cluster', 'annotation'\n",
      "    var: 'gene_ids', 'feature_types', 'genome', 'mt', 'n_cells_by_counts', 'mean_counts', 'log1p_mean_counts', 'pct_dropout_by_counts', 'total_counts', 'log1p_total_counts', 'n_cells', 'highly_variable', 'highly_variable_rank', 'means', 'variances', 'variances_norm'\n",
      "    uns: 'cluster_colors', 'hvg', 'leiden', 'leiden_colors', 'neighbors', 'pca', 'rank_genes_groups', 'spatial', 'umap'\n",
      "    obsm: 'X_pca', 'X_umap', 'spatial'\n",
      "    varm: 'PCs'\n",
      "    obsp: 'connectivities', 'distances'\n",
      "(2688, 18078)\n",
      "(2688,)\n",
      "['Cortex_1' 'Cortex_2' 'Cortex_3' 'Cortex_4' 'Cortex_5' 'Fiber_tract'\n",
      " 'Hippocampus' 'Hypothalamus_1' 'Hypothalamus_2' 'Lateral_ventricle'\n",
      " 'Pyramidal_layer' 'Pyramidal_layer_dentate_gyrus' 'Striatum' 'Thalamus_1'\n",
      " 'Thalamus_2']\n"
     ]
    },
    {
     "name": "stderr",
     "output_type": "stream",
     "text": [
      "/home/ianubuntu4/COMPUTER/BMCS4480/final/MarkerMap/src/markermap/utils.py:1086: FutureWarning: Series.__getitem__ treating keys as positions is deprecated. In a future version, integer keys will always be treated as labels (consistent with DataFrame behavior). To access a value by position, use `ser.iloc[pos]`\n",
      "  torch.utils.data.TensorDataset(torch.Tensor(X), torch.LongTensor(y)),\n"
     ]
    }
   ],
   "source": [
    "adata, train_dataloader, val_dataloader, train_indices, val_indices, test_indices, train_val_indices = dataset_squidpy()"
   ]
  },
  {
   "cell_type": "markdown",
   "id": "ddb7713a-e078-49f6-b2b2-bcfa3ccf0e6a",
   "metadata": {},
   "source": [
    "## Define and train the model"
   ]
  },
  {
   "cell_type": "code",
   "execution_count": 6,
   "id": "c132d74e-8350-4038-ad06-86022a0e8124",
   "metadata": {},
   "outputs": [
    {
     "name": "stdout",
     "output_type": "stream",
     "text": [
      "model 0\n",
      "Sequential(\n",
      "  (0): Linear(in_features=18078, out_features=2048, bias=True)\n",
      "  (1): BatchNorm1d(2048, eps=1e-05, momentum=0.1, affine=True, track_running_stats=True)\n",
      "  (2): LeakyReLU(negative_slope=0.01)\n",
      "  (3): Linear(in_features=2048, out_features=2048, bias=True)\n",
      "  (4): BatchNorm1d(2048, eps=1e-05, momentum=0.1, affine=True, track_running_stats=True)\n",
      "  (5): LeakyReLU(negative_slope=0.01)\n",
      "  (6): Linear(in_features=2048, out_features=2048, bias=True)\n",
      "  (7): LeakyReLU(negative_slope=0.01)\n",
      ")\n",
      "in markermap\n",
      "  | Name                   | Type       | Params\n",
      "------------------------------------------------------\n",
      "0 | encoder                | Sequential | 45.4 M\n",
      "1 | enc_mean               | Linear     | 1.0 M \n",
      "2 | enc_logvar             | Linear     | 1.0 M \n",
      "3 | decoder                | Sequential | 38.1 M\n",
      "4 | dec_logvar             | Sequential | 38.1 M\n",
      "5 | weight_creator         | Sequential | 78.3 M\n",
      "6 | classification_decoder | Sequential | 1.1 M \n",
      "7 | classification_loss    | NLLLoss    | 0     \n",
      "------------------------------------------------------\n",
      "203 M     Trainable params\n",
      "0         Non-trainable params\n",
      "203 M     Total params\n",
      "812.302   Total estimated model params size (MB)\n"
     ]
    },
    {
     "name": "stderr",
     "output_type": "stream",
     "text": [
      "/home/ianubuntu4/.pyenv/versions/miniconda3-latest/envs/BMCS4480/lib/python3.10/site-packages/pytorch_lightning/trainer/connectors/data_connector.py:441: The 'train_dataloader' does not have many workers which may be a bottleneck. Consider increasing the value of the `num_workers` argument` to `num_workers=23` in the `DataLoader` to improve performance.\n",
      "/home/ianubuntu4/.pyenv/versions/miniconda3-latest/envs/BMCS4480/lib/python3.10/site-packages/pytorch_lightning/trainer/connectors/data_connector.py:441: The 'val_dataloader' does not have many workers which may be a bottleneck. Consider increasing the value of the `num_workers` argument` to `num_workers=23` in the `DataLoader` to improve performance.\n",
      "Finding best initial lr: 100%|███████████████████████████████████████████████████████████████████████| 100/100 [00:02<00:00, 42.78it/s]\n"
     ]
    },
    {
     "name": "stdout",
     "output_type": "stream",
     "text": [
      "time_elapsed 137.05942940711975 seconds\n",
      "model 1\n",
      "Sequential(\n",
      "  (0): Linear(in_features=18078, out_features=2048, bias=True)\n",
      "  (1): BatchNorm1d(2048, eps=1e-05, momentum=0.1, affine=True, track_running_stats=True)\n",
      "  (2): LeakyReLU(negative_slope=0.01)\n",
      "  (3): Linear(in_features=2048, out_features=2048, bias=True)\n",
      "  (4): BatchNorm1d(2048, eps=1e-05, momentum=0.1, affine=True, track_running_stats=True)\n",
      "  (5): LeakyReLU(negative_slope=0.01)\n",
      "  (6): Linear(in_features=2048, out_features=2048, bias=True)\n",
      "  (7): LeakyReLU(negative_slope=0.01)\n",
      ")\n",
      "in markermap\n",
      "  | Name                   | Type       | Params\n",
      "------------------------------------------------------\n",
      "0 | encoder                | Sequential | 45.4 M\n",
      "1 | enc_mean               | Linear     | 1.0 M \n",
      "2 | enc_logvar             | Linear     | 1.0 M \n",
      "3 | decoder                | Sequential | 38.1 M\n",
      "4 | dec_logvar             | Sequential | 38.1 M\n",
      "5 | weight_creator         | Sequential | 78.3 M\n",
      "6 | classification_decoder | Sequential | 1.1 M \n",
      "7 | classification_loss    | NLLLoss    | 0     \n",
      "------------------------------------------------------\n",
      "203 M     Trainable params\n",
      "0         Non-trainable params\n",
      "203 M     Total params\n",
      "812.302   Total estimated model params size (MB)\n"
     ]
    },
    {
     "name": "stderr",
     "output_type": "stream",
     "text": [
      "Finding best initial lr: 100%|███████████████████████████████████████████████████████████████████████| 100/100 [00:02<00:00, 43.97it/s]\n"
     ]
    },
    {
     "name": "stdout",
     "output_type": "stream",
     "text": [
      "time_elapsed 136.5793490409851 seconds\n",
      "model 2\n",
      "Sequential(\n",
      "  (0): Linear(in_features=18078, out_features=2048, bias=True)\n",
      "  (1): BatchNorm1d(2048, eps=1e-05, momentum=0.1, affine=True, track_running_stats=True)\n",
      "  (2): LeakyReLU(negative_slope=0.01)\n",
      "  (3): Linear(in_features=2048, out_features=2048, bias=True)\n",
      "  (4): BatchNorm1d(2048, eps=1e-05, momentum=0.1, affine=True, track_running_stats=True)\n",
      "  (5): LeakyReLU(negative_slope=0.01)\n",
      "  (6): Linear(in_features=2048, out_features=2048, bias=True)\n",
      "  (7): LeakyReLU(negative_slope=0.01)\n",
      ")\n",
      "in markermap\n",
      "  | Name                   | Type       | Params\n",
      "------------------------------------------------------\n",
      "0 | encoder                | Sequential | 45.4 M\n",
      "1 | enc_mean               | Linear     | 1.0 M \n",
      "2 | enc_logvar             | Linear     | 1.0 M \n",
      "3 | decoder                | Sequential | 38.1 M\n",
      "4 | dec_logvar             | Sequential | 38.1 M\n",
      "5 | weight_creator         | Sequential | 78.3 M\n",
      "6 | classification_decoder | Sequential | 1.1 M \n",
      "7 | classification_loss    | NLLLoss    | 0     \n",
      "------------------------------------------------------\n",
      "203 M     Trainable params\n",
      "0         Non-trainable params\n",
      "203 M     Total params\n",
      "812.302   Total estimated model params size (MB)\n"
     ]
    },
    {
     "name": "stderr",
     "output_type": "stream",
     "text": [
      "Finding best initial lr: 100%|███████████████████████████████████████████████████████████████████████| 100/100 [00:02<00:00, 43.85it/s]\n"
     ]
    },
    {
     "name": "stdout",
     "output_type": "stream",
     "text": [
      "time_elapsed 135.96210360527039 seconds\n",
      "model 3\n",
      "Sequential(\n",
      "  (0): Linear(in_features=18078, out_features=2048, bias=True)\n",
      "  (1): BatchNorm1d(2048, eps=1e-05, momentum=0.1, affine=True, track_running_stats=True)\n",
      "  (2): LeakyReLU(negative_slope=0.01)\n",
      "  (3): Linear(in_features=2048, out_features=2048, bias=True)\n",
      "  (4): BatchNorm1d(2048, eps=1e-05, momentum=0.1, affine=True, track_running_stats=True)\n",
      "  (5): LeakyReLU(negative_slope=0.01)\n",
      "  (6): Linear(in_features=2048, out_features=2048, bias=True)\n",
      "  (7): LeakyReLU(negative_slope=0.01)\n",
      ")\n",
      "in markermap\n",
      "  | Name                   | Type       | Params\n",
      "------------------------------------------------------\n",
      "0 | encoder                | Sequential | 45.4 M\n",
      "1 | enc_mean               | Linear     | 1.0 M \n",
      "2 | enc_logvar             | Linear     | 1.0 M \n",
      "3 | decoder                | Sequential | 38.1 M\n",
      "4 | dec_logvar             | Sequential | 38.1 M\n",
      "5 | weight_creator         | Sequential | 78.3 M\n",
      "6 | classification_decoder | Sequential | 1.1 M \n",
      "7 | classification_loss    | NLLLoss    | 0     \n",
      "------------------------------------------------------\n",
      "203 M     Trainable params\n",
      "0         Non-trainable params\n",
      "203 M     Total params\n",
      "812.302   Total estimated model params size (MB)\n"
     ]
    },
    {
     "name": "stderr",
     "output_type": "stream",
     "text": [
      "Finding best initial lr: 100%|███████████████████████████████████████████████████████████████████████| 100/100 [00:02<00:00, 44.00it/s]\n"
     ]
    },
    {
     "name": "stdout",
     "output_type": "stream",
     "text": [
      "time_elapsed 136.04929995536804 seconds\n",
      "model 4\n",
      "Sequential(\n",
      "  (0): Linear(in_features=18078, out_features=2048, bias=True)\n",
      "  (1): BatchNorm1d(2048, eps=1e-05, momentum=0.1, affine=True, track_running_stats=True)\n",
      "  (2): LeakyReLU(negative_slope=0.01)\n",
      "  (3): Linear(in_features=2048, out_features=2048, bias=True)\n",
      "  (4): BatchNorm1d(2048, eps=1e-05, momentum=0.1, affine=True, track_running_stats=True)\n",
      "  (5): LeakyReLU(negative_slope=0.01)\n",
      "  (6): Linear(in_features=2048, out_features=2048, bias=True)\n",
      "  (7): LeakyReLU(negative_slope=0.01)\n",
      ")\n",
      "in markermap\n",
      "  | Name                   | Type       | Params\n",
      "------------------------------------------------------\n",
      "0 | encoder                | Sequential | 45.4 M\n",
      "1 | enc_mean               | Linear     | 1.0 M \n",
      "2 | enc_logvar             | Linear     | 1.0 M \n",
      "3 | decoder                | Sequential | 38.1 M\n",
      "4 | dec_logvar             | Sequential | 38.1 M\n",
      "5 | weight_creator         | Sequential | 78.3 M\n",
      "6 | classification_decoder | Sequential | 1.1 M \n",
      "7 | classification_loss    | NLLLoss    | 0     \n",
      "------------------------------------------------------\n",
      "203 M     Trainable params\n",
      "0         Non-trainable params\n",
      "203 M     Total params\n",
      "812.302   Total estimated model params size (MB)\n"
     ]
    },
    {
     "name": "stderr",
     "output_type": "stream",
     "text": [
      "Finding best initial lr: 100%|███████████████████████████████████████████████████████████████████████| 100/100 [00:02<00:00, 43.81it/s]\n"
     ]
    },
    {
     "name": "stdout",
     "output_type": "stream",
     "text": [
      "time_elapsed 136.29665660858154 seconds\n",
      "model 5\n",
      "Sequential(\n",
      "  (0): Linear(in_features=18078, out_features=2048, bias=True)\n",
      "  (1): BatchNorm1d(2048, eps=1e-05, momentum=0.1, affine=True, track_running_stats=True)\n",
      "  (2): LeakyReLU(negative_slope=0.01)\n",
      "  (3): Linear(in_features=2048, out_features=2048, bias=True)\n",
      "  (4): BatchNorm1d(2048, eps=1e-05, momentum=0.1, affine=True, track_running_stats=True)\n",
      "  (5): LeakyReLU(negative_slope=0.01)\n",
      "  (6): Linear(in_features=2048, out_features=2048, bias=True)\n",
      "  (7): LeakyReLU(negative_slope=0.01)\n",
      ")\n",
      "in markermap\n",
      "  | Name                   | Type       | Params\n",
      "------------------------------------------------------\n",
      "0 | encoder                | Sequential | 45.4 M\n",
      "1 | enc_mean               | Linear     | 1.0 M \n",
      "2 | enc_logvar             | Linear     | 1.0 M \n",
      "3 | decoder                | Sequential | 38.1 M\n",
      "4 | dec_logvar             | Sequential | 38.1 M\n",
      "5 | weight_creator         | Sequential | 78.3 M\n",
      "6 | classification_decoder | Sequential | 1.1 M \n",
      "7 | classification_loss    | NLLLoss    | 0     \n",
      "------------------------------------------------------\n",
      "203 M     Trainable params\n",
      "0         Non-trainable params\n",
      "203 M     Total params\n",
      "812.302   Total estimated model params size (MB)\n"
     ]
    },
    {
     "name": "stderr",
     "output_type": "stream",
     "text": [
      "Finding best initial lr: 100%|███████████████████████████████████████████████████████████████████████| 100/100 [00:02<00:00, 43.72it/s]\n"
     ]
    },
    {
     "name": "stdout",
     "output_type": "stream",
     "text": [
      "time_elapsed 136.224956035614 seconds\n"
     ]
    }
   ],
   "source": [
    "markers = []\n",
    "params = {\n",
    "    'z_size': 512,\n",
    "    'hidden_layer_size': 2048,\n",
    "    'k': 100,\n",
    "}\n",
    "\n",
    "for i in range(0, 6):\n",
    "    print('model', i)\n",
    "    tic = time.time()\n",
    "    # mms.append(squidpy_markermap(params, adata, train_dataloader, val_dataloader))\n",
    "    mm = squidpy_markermap(params, adata, train_dataloader, val_dataloader)\n",
    "    toc = time.time()\n",
    "    print('time_elapsed', toc-tic, 'seconds')\n",
    "    markers.append(mm.markers().clone().cpu().detach().numpy())"
   ]
  },
  {
   "cell_type": "code",
   "execution_count": 15,
   "id": "b0280a6b-15e4-4992-acf2-c815646d47d1",
   "metadata": {},
   "outputs": [
    {
     "name": "stdout",
     "output_type": "stream",
     "text": [
      "Unique values: [   46   117   129   219   258   289   309   343   386   402   404   408\n",
      "   442   448   455   500   509   561   574   593   674   700   727   771\n",
      "   833   942   948  1025  1118  1306  1318  1410  1433  1437  1439  1465\n",
      "  1481  1488  1513  1530  1539  1562  1607  1610  1661  1739  1816  1851\n",
      "  1856  1945  1950  2077  2081  2123  2132  2153  2155  2224  2251  2255\n",
      "  2285  2314  2331  2375  2403  2405  2407  2408  2434  2480  2500  2501\n",
      "  2536  2540  2625  2628  2650  2675  2690  2724  2740  2775  2776  2822\n",
      "  2844  2921  2953  2993  3038  3057  3063  3065  3099  3110  3153  3168\n",
      "  3183  3203  3218  3236  3280  3283  3300  3309  3349  3354  3373  3392\n",
      "  3411  3417  3433  3440  3509  3523  3528  3596  3713  3733  3749  3751\n",
      "  3780  3781  3829  3835  3877  3909  3948  3970  4013  4141  4172  4227\n",
      "  4234  4240  4275  4278  4344  4352  4377  4395  4528  4549  4651  4716\n",
      "  4741  4764  4803  4826  4834  4859  4886  4893  4996  5048  5065  5184\n",
      "  5280  5339  5379  5431  5449  5492  5518  5549  5603  5640  5647  5661\n",
      "  5752  5770  5774  5810  5840  5845  5869  5885  5950  5989  6040  6063\n",
      "  6088  6123  6135  6172  6224  6257  6281  6321  6322  6339  6434  6522\n",
      "  6527  6538  6562  6616  6649  6706  6737  6854  6869  6892  6910  6950\n",
      "  6968  6983  7177  7225  7239  7257  7328  7355  7395  7396  7472  7490\n",
      "  7535  7549  7553  7576  7659  7673  7801  7818  7903  7959  7993  8026\n",
      "  8045  8072  8102  8152  8165  8185  8194  8253  8266  8276  8312  8313\n",
      "  8315  8359  8396  8462  8478  8497  8508  8524  8572  8606  8651  8662\n",
      "  8720  8805  8833  8846  8882  8898  8912  8937  8952  8957  8996  9005\n",
      "  9021  9084  9147  9186  9209  9227  9257  9259  9273  9354  9368  9396\n",
      "  9411  9469  9598  9606  9628  9630  9705  9745  9767  9800  9814  9829\n",
      "  9846  9946 10010 10027 10046 10057 10105 10139 10145 10151 10235 10276\n",
      " 10321 10338 10355 10356 10429 10529 10534 10585 10680 10699 10711 10716\n",
      " 10860 10950 10963 10967 10988 11006 11030 11089 11174 11191 11195 11204\n",
      " 11210 11295 11304 11335 11344 11394 11448 11473 11483 11484 11505 11633\n",
      " 11647 11720 11741 11783 11831 11836 11863 11902 11958 12017 12018 12024\n",
      " 12064 12074 12111 12159 12164 12165 12185 12255 12288 12399 12409 12418\n",
      " 12508 12559 12563 12582 12603 12669 12681 12683 12697 12789 12809 12834\n",
      " 12861 12907 12954 12955 12972 13035 13057 13070 13101 13124 13138 13179\n",
      " 13189 13214 13216 13217 13247 13262 13297 13305 13326 13388 13417 13424\n",
      " 13469 13505 13513 13621 13651 13710 13720 13762 13784 13798 13809 13824\n",
      " 13838 13853 13916 13954 13977 14028 14038 14044 14053 14060 14106 14126\n",
      " 14155 14256 14258 14267 14327 14337 14360 14380 14406 14442 14485 14486\n",
      " 14494 14506 14535 14577 14598 14642 14666 14778 14779 14889 15097 15244\n",
      " 15268 15274 15275 15280 15319 15322 15347 15353 15410 15428 15472 15488\n",
      " 15494 15496 15504 15531 15558 15594 15786 15850 15861 15883 15909 15952\n",
      " 15953 16020 16057 16072 16104 16105 16126 16140 16143 16197 16288 16291\n",
      " 16357 16377 16405 16422 16432 16545 16548 16644 16678 16710 16836 16892\n",
      " 16897 16944 16962 17065 17066 17081 17108 17111 17137 17248 17287 17330\n",
      " 17367 17387 17405 17414 17428 17460 17466 17479 17530 17550 17552 17558\n",
      " 17577 17645 17654 17658 17668 17716 17738 17756 17760 17811 17833 17863\n",
      " 17907 17926 17935 17952 17976 17982 18015 18040 18060 18063 18075]\n",
      "Counts: [1 1 1 1 1 1 1 3 1 1 1 1 1 1 1 1 1 1 2 2 1 1 1 1 1 1 1 1 1 1 1 2 2 1 1 1 2\n",
      " 1 1 1 1 2 1 1 1 2 1 1 1 1 1 1 1 1 1 1 1 1 3 1 1 1 1 1 1 1 1 1 1 2 1 1 1 1\n",
      " 1 1 1 1 1 2 1 1 1 1 1 1 1 1 1 1 1 1 1 1 1 1 1 2 1 1 1 2 1 1 1 1 1 2 1 1 1\n",
      " 1 1 1 1 1 1 1 1 1 1 1 1 3 3 1 1 1 1 1 1 1 1 1 1 1 1 2 1 1 1 1 1 1 1 1 2 1\n",
      " 1 1 1 1 1 1 1 1 1 1 1 1 2 1 1 1 1 1 1 1 1 2 1 1 1 1 1 1 1 1 1 1 1 2 1 1 1\n",
      " 1 1 1 2 1 1 1 1 1 2 1 1 1 1 1 2 2 1 1 1 1 1 1 1 1 1 1 1 1 1 1 1 1 2 1 1 1\n",
      " 1 1 1 1 1 1 1 2 2 1 1 1 1 1 1 1 2 1 1 1 1 1 1 1 1 1 1 1 1 1 1 1 1 1 1 1 1\n",
      " 1 1 1 1 1 1 1 1 1 1 1 1 1 1 1 1 1 1 1 1 1 1 1 1 1 1 1 1 2 1 1 1 1 2 1 1 1\n",
      " 1 1 1 1 1 1 1 1 1 1 1 1 1 1 1 1 1 1 1 1 1 1 1 3 1 1 1 1 1 1 1 1 1 1 1 1 1\n",
      " 1 1 1 1 1 1 1 3 1 1 1 2 1 2 1 1 1 1 1 1 1 1 1 1 1 1 2 1 1 1 1 1 1 1 2 1 1\n",
      " 1 1 1 1 1 2 1 1 1 2 1 1 1 1 1 1 1 1 1 1 1 1 1 1 2 1 1 1 1 1 1 1 1 1 1 2 1\n",
      " 1 1 1 1 1 1 3 1 1 1 1 1 1 1 1 1 1 1 1 1 1 1 1 1 1 1 1 1 1 1 1 1 1 1 1 1 1\n",
      " 2 2 1 1 1 1 2 1 1 1 1 2 1 1 1 1 1 2 1 1 1 2 1 1 1 1 1 1 1 1 1 1 1 1 1 1 1\n",
      " 2 1 1 1 1 1 1 1 1 1 1 1 1 1 1 1 1 1 1 1 1 1 1 1 1 1 1 2 1 1 1 1 1 1 1 1 1\n",
      " 1 1 1 1 1 2 2 1 1 1 1 1 1 1 1 1 3 1 1 1 1]\n"
     ]
    },
    {
     "data": {
      "image/png": "[encoded data removed]",
      "text/plain": [
       "<Figure size 640x480 with 1 Axes>"
      ]
     },
     "metadata": {},
     "output_type": "display_data"
    }
   ],
   "source": [
    "unique, counts = np.unique(markers, return_counts=True)\n",
    "print(\"Unique values:\", unique)\n",
    "print(\"Counts:\", counts)\n",
    "\n",
    "# Creating the histogram\n",
    "plt.bar(unique, counts, width=30)\n",
    "\n",
    "# Adding titles and labels\n",
    "plt.title('Histogram of Number Counts')\n",
    "plt.xlabel('Numbers')\n",
    "plt.ylabel('Counts')\n",
    "# plt.xticks(unique)  # Ensure each unique value has a tick\n",
    "\n",
    "# Show the plot\n",
    "plt.show()"
   ]
  },
  {
   "cell_type": "code",
   "execution_count": null,
   "id": "49c741cf-4149-4a79-8053-0cb132dd732f",
   "metadata": {},
   "outputs": [],
   "source": []
  }
 ],
 "metadata": {
  "kernelspec": {
   "display_name": "Python 3 (ipykernel)",
   "language": "python",
   "name": "python3"
  },
  "language_info": {
   "codemirror_mode": {
    "name": "ipython",
    "version": 3
   },
   "file_extension": ".py",
   "mimetype": "text/x-python",
   "name": "python",
   "nbconvert_exporter": "python",
   "pygments_lexer": "ipython3",
   "version": "3.10.14"
  }
 },
 "nbformat": 4,
 "nbformat_minor": 5
}
